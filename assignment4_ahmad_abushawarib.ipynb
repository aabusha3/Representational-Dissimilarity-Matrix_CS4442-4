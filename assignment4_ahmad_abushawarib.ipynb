{
 "cells": [
  {
   "cell_type": "markdown",
   "metadata": {},
   "source": [
    "Step 1. Use one of the deep learning frameworks (Pytorch, Tensorflow, Keras, ...) and\n",
    "load the pre-trained AlexNet model. Input these 156 images to the pre-trained AlexNet\n",
    "model and extract feature maps/activations from Conv 1, 2, 3, 4, 5, fc6, and fc7 layers.\n",
    "Vectorize the activations corresponding to each image. You should have a vector of\n",
    "activations per image per layer mentioned above. (20 points)"
   ]
  },
  {
   "cell_type": "code",
   "execution_count": 5,
   "metadata": {},
   "outputs": [],
   "source": [
    "import numpy as np\n",
    "import pandas as pd\n",
    "import tensorflow as tf\n",
    "from tensorflow import keras\n",
    "import matplotlib.pyplot as plt"
   ]
  },
  {
   "cell_type": "markdown",
   "metadata": {},
   "source": [
    "Step 2. Create a representational dissimilarity matrix (RDM) which is 156 x156 matrix,\n",
    "each row and column in this matrix is indexed by one of the images in the image set\n",
    "and each element in the matrix is the Euclidean distance between the activation vectors\n",
    "of the corresponding images you extracted in Step 1. (30 points)"
   ]
  },
  {
   "cell_type": "markdown",
   "metadata": {},
   "source": [
    "Step 3. Plot the RDM for each layer (Conv 1, 2, 3, 4, 5, fc6, fc7), and their\n",
    "corresponding multidimensional scaling (MDS) visualization in 2 Dimension. The class\n",
    "labels you should use for the MDS plotting includes images 1 to 28 are Animals, 29-64\n",
    "are Objects, 65 to 100 are scenes, 101 to 124 are human activities, 125 to 156 are\n",
    "faces. (30 points)"
   ]
  },
  {
   "cell_type": "markdown",
   "metadata": {},
   "source": [
    "Please write a short report presenting and discussing the results of this assignment. (20\n",
    "points)"
   ]
  }
 ],
 "metadata": {
  "kernelspec": {
   "display_name": "base",
   "language": "python",
   "name": "python3"
  },
  "language_info": {
   "codemirror_mode": {
    "name": "ipython",
    "version": 3
   },
   "file_extension": ".py",
   "mimetype": "text/x-python",
   "name": "python",
   "nbconvert_exporter": "python",
   "pygments_lexer": "ipython3",
   "version": "3.11.4"
  }
 },
 "nbformat": 4,
 "nbformat_minor": 2
}
